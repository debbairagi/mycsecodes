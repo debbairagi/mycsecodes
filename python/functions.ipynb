{
 "cells": [
  {
   "cell_type": "code",
   "execution_count": 1,
   "metadata": {},
   "outputs": [
    {
     "name": "stdout",
     "output_type": "stream",
     "text": [
      "Hello, Debbindu!\n"
     ]
    }
   ],
   "source": [
    "def greet_user(username):\n",
    "    # \"\"\"Display a simeple greeting\"\"\"\n",
    "    print(\"Hello, \" + username.title()+ \"!\")\n",
    "\n",
    "greet_user('Debbindu')    \n"
   ]
  },
  {
   "cell_type": "code",
   "execution_count": 2,
   "metadata": {},
   "outputs": [
    {
     "name": "stdout",
     "output_type": "stream",
     "text": [
      "\n",
      "I have a hamster .\n",
      "My hamster's name is Harry .\n"
     ]
    }
   ],
   "source": [
    "def describe_pet(animal_type, pet_name):\n",
    "    print(\"\\nI have a \" + animal_type + \" .\")\n",
    "    print(\"My \" + animal_type+ \"'s name is \" + pet_name.title() + \" .\")\n",
    "\n",
    "describe_pet(animal_type='hamster', pet_name='harry')"
   ]
  },
  {
   "cell_type": "code",
   "execution_count": 3,
   "metadata": {},
   "outputs": [
    {
     "name": "stdout",
     "output_type": "stream",
     "text": [
      "{'first': 'jimi', 'last': 'hendrix'}\n"
     ]
    }
   ],
   "source": [
    "# Returning a Dictionary\n",
    "\n",
    "def build_person(first_name, last_name):\n",
    "    person = {'first':first_name, 'last':last_name}\n",
    "    return person\n",
    "\n",
    "mugician = build_person('jimi', 'hendrix')\n",
    "print(mugician)"
   ]
  },
  {
   "cell_type": "code",
   "execution_count": 2,
   "metadata": {},
   "outputs": [
    {
     "name": "stdout",
     "output_type": "stream",
     "text": [
      "\n",
      "Please tell me your name: \n"
     ]
    },
    {
     "ename": "TypeError",
     "evalue": "bad operand type for unary +: 'str'",
     "output_type": "error",
     "traceback": [
      "\u001b[1;31m---------------------------------------------------------------------------\u001b[0m",
      "\u001b[1;31mTypeError\u001b[0m                                 Traceback (most recent call last)",
      "Cell \u001b[1;32mIn[2], line 11\u001b[0m\n\u001b[0;32m      8\u001b[0m lName \u001b[39m=\u001b[39m \u001b[39minput\u001b[39m(\u001b[39m\"\u001b[39m\u001b[39mLast Name: \u001b[39m\u001b[39m\"\u001b[39m)\n\u001b[0;32m     10\u001b[0m formatterName \u001b[39m=\u001b[39m get_formatted_name(fName, lName)\n\u001b[1;32m---> 11\u001b[0m \u001b[39mprint\u001b[39m(\u001b[39m\"\u001b[39m\u001b[39m\\n\u001b[39;00m\u001b[39mHello, \u001b[39m\u001b[39m\"\u001b[39m, \u001b[39m+\u001b[39;49m formatterName \u001b[39m+\u001b[39m \u001b[39m\"\u001b[39m\u001b[39m!\u001b[39m\u001b[39m\"\u001b[39m)\n",
      "\u001b[1;31mTypeError\u001b[0m: bad operand type for unary +: 'str'"
     ]
    }
   ],
   "source": [
    "def get_formatted_name(firstName, lastName):\n",
    "    fullName = firstName + ' ' + lastName\n",
    "    return fullName.title()\n",
    "\n",
    "while True:\n",
    "    print(\"\\nPlease tell me your name: \")\n",
    "    fName = input(\"First Name: \")\n",
    "    lName = input(\"Last Name: \")\n",
    "\n",
    "    formatterName = get_formatted_name(fName, lName)\n",
    "    print(\"\\nHello, \", + formatterName + \"!\")"
   ]
  }
 ],
 "metadata": {
  "kernelspec": {
   "display_name": "Python 3",
   "language": "python",
   "name": "python3"
  },
  "language_info": {
   "codemirror_mode": {
    "name": "ipython",
    "version": 3
   },
   "file_extension": ".py",
   "mimetype": "text/x-python",
   "name": "python",
   "nbconvert_exporter": "python",
   "pygments_lexer": "ipython3",
   "version": "3.11.1 (tags/v3.11.1:a7a450f, Dec  6 2022, 19:58:39) [MSC v.1934 64 bit (AMD64)]"
  },
  "orig_nbformat": 4,
  "vscode": {
   "interpreter": {
    "hash": "e8a7989adf5969ac944ea0d01faadbc566a5702dba254062d02e69ec8f957a1a"
   }
  }
 },
 "nbformat": 4,
 "nbformat_minor": 2
}
